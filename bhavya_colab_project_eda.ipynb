{
  "nbformat": 4,
  "nbformat_minor": 0,
  "metadata": {
    "colab": {
      "provenance": [],
      "include_colab_link": true
    },
    "kernelspec": {
      "name": "python3",
      "display_name": "Python 3"
    },
    "language_info": {
      "name": "python"
    }
  },
  "cells": [
    {
      "cell_type": "markdown",
      "metadata": {
        "id": "view-in-github",
        "colab_type": "text"
      },
      "source": [
        "<a href=\"https://colab.research.google.com/github/bgbhavyasri/EDA-Airbnb-Bookings-Analysis/blob/main/bhavya_colab_project_eda.ipynb\" target=\"_parent\"><img src=\"https://colab.research.google.com/assets/colab-badge.svg\" alt=\"Open In Colab\"/></a>"
      ]
    },
    {
      "cell_type": "markdown",
      "source": [
        "#Project Name - Hotel Booking Analysis \n",
        "\n",
        "\n",
        "Project Type - EDA<br>\n",
        "Contribution - Individual"
      ],
      "metadata": {
        "id": "rJyJcQZXPDnF"
      }
    },
    {
      "cell_type": "markdown",
      "source": [
        "##Problem Statement\n",
        "\n",
        "\n",
        "In this project we are going to analyse Hotel Booking dataset. This dataset contains information of city hotel and resort hotel, and includes information of booking time, length of stay, number of adults, children and/or babies, also have information of available parking space, among other thing.\n",
        "\n",
        "The objective of this project is explore and analyse the data to discover important factors regarding Hotels booking and its attributes."
      ],
      "metadata": {
        "id": "WZ3jPksqYZqe"
      }
    },
    {
      "cell_type": "markdown",
      "source": [
        "##Define Your Business Objective?\n",
        "\n",
        "Analyse the data on Hotel Booking and discover the different factors which affects the booking."
      ],
      "metadata": {
        "id": "eA120rmIZvCN"
      }
    },
    {
      "cell_type": "markdown",
      "source": [],
      "metadata": {
        "id": "0XqoWU2Tc50F"
      }
    },
    {
      "cell_type": "markdown",
      "source": [
        "##General Guidelines :-\n",
        "\n",
        "\n",
        "\n",
        "1.   Well-stru, formatted, and commented code is required.\n",
        "\n",
        "2.   Exception Handling , production Grade code & Deployment Ready code will\n",
        "     be a plus. These students will be awarded some additional credits.\n",
        "\n",
        "     The additional credits will have advantages over other students during \n",
        "     Star Student selection.    <br>\n",
        "        [ Note: - Deployment Ready Code is defined as, the whole .ipynd   notebook should be executable in one go without a single error logged. ]\n",
        "\n",
        "3.   Each and every logic should have proper comments.\n",
        "\n",
        "4.   You may add as many number of charts you want. Make sure for each and every chart the following format should be answered.<br> \n",
        "\n",
        "\n",
        "\n",
        "     # Chart Visualization code\n",
        "\n",
        "       * Why did you pick the specific chart?  \n",
        "       * What is/are the insight(s) found from the chart?\n",
        "       * Will the gained insights help creating a positive business \n",
        "         impact? Are there any insights that lead to negative growth? Justify \n",
        "         with specific reason.\n",
        "\n",
        "5.   You have to create at least 20 logical & meaningful charts having \n",
        "     important insights.\n",
        "\n",
        "[ Hints :- Do the Visualization in a structured way while following \"UBM\" Rule.\n",
        "\n",
        "U - Univariate Analysis,\n",
        "\n",
        "B - Bivariate Analysis(Numerical-\n",
        "Categorical, Numerical- Numerical, \n",
        "Categorical- Categorical)\n",
        "\n",
        "M - Multivariate Analysis ]\n",
        "\n",
        "\n",
        "\n",
        "\n",
        "\n",
        "\n",
        "\n",
        "\n",
        "\n",
        "\n"
      ],
      "metadata": {
        "id": "c8IeHVWgaiXx"
      }
    },
    {
      "cell_type": "markdown",
      "source": [
        "# **Let's Begin !**"
      ],
      "metadata": {
        "id": "r6MgxFZ-kTqD"
      }
    },
    {
      "cell_type": "markdown",
      "source": [
        "\n",
        "\n",
        "# **1**.   **Know Your Data**\n",
        "\n",
        "\n"
      ],
      "metadata": {
        "id": "zgCKS7T5j0-5"
      }
    },
    {
      "cell_type": "markdown",
      "source": [
        "#  Import Libraries\n",
        "       "
      ],
      "metadata": {
        "id": "nGwiDTFHlvSq"
      }
    },
    {
      "cell_type": "code",
      "source": [
        "# Importing libraries\n",
        "import numpy as np\n",
        "import pandas as pd\n",
        "from numpy import math\n",
        "from numpy import loadtxt\n",
        "import seaborn as sns\n",
        "import matplotlib.pyplot as plt\n",
        "%matplotlib inline\n",
        "from matplotlib import rcParams"
      ],
      "metadata": {
        "id": "Rh8X0mF9nEtN"
      },
      "execution_count": null,
      "outputs": []
    },
    {
      "cell_type": "markdown",
      "source": [
        "##Dataset Loading"
      ],
      "metadata": {
        "id": "tqRqCixe5wZk"
      }
    },
    {
      "cell_type": "code",
      "source": [
        "# My drive is mounted here.\n",
        "from google.colab import drive\n",
        "drive.mount('/content/drive')"
      ],
      "metadata": {
        "colab": {
          "base_uri": "https://localhost:8080/"
        },
        "id": "9vs2qRF21vly",
        "outputId": "4f1b1698-df8d-46b2-8b46-85e5f07459cb"
      },
      "execution_count": null,
      "outputs": [
        {
          "output_type": "stream",
          "name": "stdout",
          "text": [
            "Mounted at /content/drive\n"
          ]
        }
      ]
    },
    {
      "cell_type": "code",
      "source": [
        "# Hotel booking dataset read using pd.read_csv\n",
        "working_dataset = '/content/drive/MyDrive/bhavya_colab_project_eda.ipynb'\n",
        "df = pd.read_csv(working_dataset)"
      ],
      "metadata": {
        "id": "DFWdyfjbOVRc",
        "colab": {
          "base_uri": "https://localhost:8080/",
          "height": 200
        },
        "outputId": "4e4b6420-6d17-4a47-e30b-240b1a2b8bb5"
      },
      "execution_count": null,
      "outputs": [
        {
          "output_type": "error",
          "ename": "NameError",
          "evalue": "ignored",
          "traceback": [
            "\u001b[0;31m---------------------------------------------------------------------------\u001b[0m",
            "\u001b[0;31mNameError\u001b[0m                                 Traceback (most recent call last)",
            "\u001b[0;32m<ipython-input-4-814390a6681e>\u001b[0m in \u001b[0;36m<cell line: 3>\u001b[0;34m()\u001b[0m\n\u001b[1;32m      1\u001b[0m \u001b[0;31m# Hotel booking dataset read using pd.read_csv\u001b[0m\u001b[0;34m\u001b[0m\u001b[0;34m\u001b[0m\u001b[0m\n\u001b[1;32m      2\u001b[0m \u001b[0mworking_dataset\u001b[0m \u001b[0;34m=\u001b[0m \u001b[0;34m'/content/drive/MyDrive/bhavya_colab_project_eda.ipynb'\u001b[0m\u001b[0;34m\u001b[0m\u001b[0;34m\u001b[0m\u001b[0m\n\u001b[0;32m----> 3\u001b[0;31m \u001b[0mdf\u001b[0m \u001b[0;34m=\u001b[0m \u001b[0mpd\u001b[0m\u001b[0;34m.\u001b[0m\u001b[0mread_csv\u001b[0m\u001b[0;34m(\u001b[0m\u001b[0mworking_dataset\u001b[0m\u001b[0;34m)\u001b[0m\u001b[0;34m\u001b[0m\u001b[0;34m\u001b[0m\u001b[0m\n\u001b[0m",
            "\u001b[0;31mNameError\u001b[0m: name 'pd' is not defined"
          ]
        }
      ]
    },
    {
      "cell_type": "markdown",
      "source": [
        "## Dataset First View"
      ],
      "metadata": {
        "id": "VTg8i7gFmA6v"
      }
    },
    {
      "cell_type": "code",
      "source": [
        "#First view of dataset\n",
        "df.head()"
      ],
      "metadata": {
        "colab": {
          "base_uri": "https://localhost:8080/",
          "height": 183
        },
        "id": "lUeEvG5YmP8e",
        "outputId": "d3d0a332-59e1-4b09-807e-39ab6c0a8d1a"
      },
      "execution_count": null,
      "outputs": [
        {
          "output_type": "error",
          "ename": "NameError",
          "evalue": "ignored",
          "traceback": [
            "\u001b[0;31m---------------------------------------------------------------------------\u001b[0m",
            "\u001b[0;31mNameError\u001b[0m                                 Traceback (most recent call last)",
            "\u001b[0;32m<ipython-input-6-b0203d14d434>\u001b[0m in \u001b[0;36m<cell line: 2>\u001b[0;34m()\u001b[0m\n\u001b[1;32m      1\u001b[0m \u001b[0;31m#First view of dataset\u001b[0m\u001b[0;34m\u001b[0m\u001b[0;34m\u001b[0m\u001b[0m\n\u001b[0;32m----> 2\u001b[0;31m \u001b[0mdf\u001b[0m\u001b[0;34m.\u001b[0m\u001b[0mhead\u001b[0m\u001b[0;34m(\u001b[0m\u001b[0;34m)\u001b[0m\u001b[0;34m\u001b[0m\u001b[0;34m\u001b[0m\u001b[0m\n\u001b[0m",
            "\u001b[0;31mNameError\u001b[0m: name 'df' is not defined"
          ]
        }
      ]
    }
  ]
}